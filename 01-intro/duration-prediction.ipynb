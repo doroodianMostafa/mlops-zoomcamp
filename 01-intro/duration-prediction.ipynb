{
 "cells": [
  {
   "cell_type": "code",
   "execution_count": 1,
   "id": "02b2c3a2",
   "metadata": {},
   "outputs": [
    {
     "name": "stdout",
     "output_type": "stream",
     "text": [
      "Python 3.9.12\r\n"
     ]
    }
   ],
   "source": [
    "!python -V"
   ]
  },
  {
   "cell_type": "code",
   "execution_count": 2,
   "id": "61071daf",
   "metadata": {},
   "outputs": [],
   "source": [
    "import pandas as pd"
   ]
  },
  {
   "cell_type": "code",
   "execution_count": 3,
   "id": "0d3c7d26",
   "metadata": {},
   "outputs": [],
   "source": [
    "import pickle "
   ]
  },
  {
   "cell_type": "code",
   "execution_count": 4,
   "id": "8d8c5c6e",
   "metadata": {},
   "outputs": [],
   "source": [
    "import seaborn as sns\n",
    "import matplotlib.pyplot as plt"
   ]
  },
  {
   "cell_type": "code",
   "execution_count": 5,
   "id": "67f50f49",
   "metadata": {},
   "outputs": [],
   "source": [
    "from sklearn.feature_extraction import DictVectorizer\n",
    "from sklearn.linear_model import LinearRegression\n",
    "from sklearn.linear_model import Lasso\n",
    "from sklearn.linear_model import Ridge\n",
    "\n",
    "\n",
    "from sklearn.metrics import mean_squared_error"
   ]
  },
  {
   "cell_type": "code",
   "execution_count": 5,
   "id": "532aab94",
   "metadata": {},
   "outputs": [],
   "source": [
    "df = pd.read_parquet(\"../notebooks/data/green_tripdata_2021-01.parquet\")\n",
    "\n",
    "# #### Next:\n",
    "# we will calculate the \"duration\" in minutes, and plot the distribution of it.\n",
    "\n",
    "df['duration']= df.lpep_dropoff_datetime - df.lpep_pickup_datetime\n",
    "df.duration = df.duration.apply(lambda td: td.total_seconds()/60)\n",
    "\n",
    "df = df[(df.duration >= 1) & (df.duration <= 60)]\n",
    "\n",
    "categorical = ['PULocationID', 'DOLocationID']\n",
    "numerical = ['trip_distance']\n",
    "\n",
    "df[categorical]=df[categorical].astype(str)"
   ]
  },
  {
   "cell_type": "markdown",
   "id": "8891f1f6",
   "metadata": {},
   "source": [
    "#### Next:\n",
    "Now we are going to train a model. To train a model, we need to do something with the categorical variables. Our categorical var's types are int,  and since we are going to do \"one-hot encoding\", we can be using dictionary vectorizer, and it treats everything that is not a number as categorical var, however here our cat vars are int, so it will think they are numerical vars, so we will convert them to string."
   ]
  },
  {
   "cell_type": "code",
   "execution_count": null,
   "id": "765ffb09",
   "metadata": {},
   "outputs": [],
   "source": [
    "train_dicts = df[categorical + numerical].to_dict(orient='records')\n",
    "\n",
    "dv = DictVectorizer()\n",
    "X_train = dv.fit_transform(train_dicts)\n",
    "\n",
    "target= 'duration'\n",
    "y_train = df[target].values\n",
    "\n",
    "lr = LinearRegression()\n",
    "lr.fit(X_train, y_train)\n",
    "\n",
    "y_pred = lr.predict(X_train)\n",
    "\n",
    "mean_squared_error(y_train, y_pred, squared=False)"
   ]
  },
  {
   "cell_type": "code",
   "execution_count": null,
   "id": "bca48b59",
   "metadata": {},
   "outputs": [],
   "source": [
    "sns.distplot(y_pred, label='prediction')\n",
    "sns.distplot(y_train, label='actual')\n",
    "\n",
    "plt.legend()"
   ]
  },
  {
   "cell_type": "markdown",
   "id": "a5e11378",
   "metadata": {},
   "source": [
    "## Note:\n",
    "Here we can see the predicted values are pretty different than actual values, which is why we didn't expect this model to particularly be good."
   ]
  },
  {
   "cell_type": "markdown",
   "id": "7e6b7caf",
   "metadata": {},
   "source": [
    "#### Next:\n",
    "    for calculating the performance of this model on the training dataset, we will use mean_square_errors from sikitlearn"
   ]
  },
  {
   "cell_type": "code",
   "execution_count": null,
   "id": "062e2a38",
   "metadata": {},
   "outputs": [],
   "source": []
  },
  {
   "cell_type": "code",
   "execution_count": 1,
   "id": "f21020c1",
   "metadata": {},
   "outputs": [],
   "source": [
    "def read_datarfame(filename):\n",
    "    df = pd.read_parquet(filename)\n",
    "\n",
    "    # #### Next:\n",
    "    # we will calculate the \"duration\" in minutes, and plot the distribution of it.\n",
    "\n",
    "    df['duration']= df.lpep_dropoff_datetime - df.lpep_pickup_datetime\n",
    "    df.duration = df.duration.apply(lambda td: td.total_seconds()/60)\n",
    "\n",
    "    df = df[(df.duration >= 1) & (df.duration <= 60)]\n",
    "\n",
    "    categorical = ['PULocationID', 'DOLocationID']\n",
    "\n",
    "    df[categorical]=df[categorical].astype(str)\n",
    "    \n",
    "    return df"
   ]
  },
  {
   "cell_type": "code",
   "execution_count": 6,
   "id": "ec08bb36",
   "metadata": {},
   "outputs": [],
   "source": [
    "df_train = read_datarfame('../notebooks/data/green_tripdata_2021-01.parquet')\n",
    "df_val = read_datarfame('../notebooks/data/green_tripdata_2021-02.parquet')"
   ]
  },
  {
   "cell_type": "code",
   "execution_count": 7,
   "id": "5ab73435",
   "metadata": {},
   "outputs": [
    {
     "data": {
      "text/plain": [
       "(73908, 61921)"
      ]
     },
     "execution_count": 7,
     "metadata": {},
     "output_type": "execute_result"
    }
   ],
   "source": [
    "len(df_train), len(df_val)"
   ]
  },
  {
   "cell_type": "code",
   "execution_count": 18,
   "id": "5df65692",
   "metadata": {},
   "outputs": [],
   "source": [
    "df_train['PU_DO'] = df_train['PULocationID'] + '_' +df_train['DOLocationID']\n",
    "df_val['PU_DO'] = df_val['PULocationID'] + '_' +df_val['DOLocationID']"
   ]
  },
  {
   "cell_type": "code",
   "execution_count": 20,
   "id": "b7bd9201",
   "metadata": {},
   "outputs": [],
   "source": [
    "categorical = ['PU_DO'] # ['PULocationID', 'DOLocationID']\n",
    "numerical = ['trip_distance']\n",
    "\n",
    "dv = DictVectorizer()\n",
    "\n",
    "train_dicts = df_train[categorical + numerical].to_dict(orient='records')\n",
    "X_train = dv.fit_transform(train_dicts)\n",
    "\n",
    "val_dicts = df_val[categorical + numerical].to_dict(orient='records')\n",
    "X_val = dv.transform(val_dicts)\n",
    "\n"
   ]
  },
  {
   "cell_type": "code",
   "execution_count": 9,
   "id": "de26c63e",
   "metadata": {},
   "outputs": [],
   "source": [
    "target= 'duration'\n",
    "y_train = df_train[target].values\n",
    "y_val = df_val[target].values"
   ]
  },
  {
   "cell_type": "code",
   "execution_count": 26,
   "id": "92539609",
   "metadata": {},
   "outputs": [
    {
     "data": {
      "text/plain": [
       "7.4793657829373155"
      ]
     },
     "execution_count": 26,
     "metadata": {},
     "output_type": "execute_result"
    }
   ],
   "source": [
    "lr = LinearRegression()\n",
    "lr.fit(X_train, y_train)\n",
    "\n",
    "y_pred = lr.predict(X_val)\n",
    "\n",
    "mean_squared_error(y_val, y_pred, squared=False)"
   ]
  },
  {
   "cell_type": "code",
   "execution_count": 29,
   "id": "24014afa",
   "metadata": {},
   "outputs": [],
   "source": [
    "with open('../notebooks/models/lin_reg.bin', 'wb') as f_out:\n",
    "    pickle.dump((dv,lr), f_out)"
   ]
  },
  {
   "cell_type": "code",
   "execution_count": null,
   "id": "3836126e",
   "metadata": {},
   "outputs": [],
   "source": [
    "### Next:\n",
    "Let's try Lasso regression"
   ]
  },
  {
   "cell_type": "code",
   "execution_count": 24,
   "id": "822b01bd",
   "metadata": {},
   "outputs": [
    {
     "data": {
      "text/plain": [
       "7.616617761096093"
      ]
     },
     "execution_count": 24,
     "metadata": {},
     "output_type": "execute_result"
    }
   ],
   "source": [
    "lr = Lasso(alpha=0.0001)\n",
    "lr.fit(X_train, y_train)\n",
    "\n",
    "y_pred = lr.predict(X_val)\n",
    "\n",
    "mean_squared_error(y_val, y_pred, squared=False)"
   ]
  },
  {
   "cell_type": "code",
   "execution_count": 23,
   "id": "b20c4b0e",
   "metadata": {},
   "outputs": [
    {
     "data": {
      "text/plain": [
       "11.34256591918933"
      ]
     },
     "execution_count": 23,
     "metadata": {},
     "output_type": "execute_result"
    }
   ],
   "source": [
    "lr = Ridge(alpha=0.01)\n",
    "lr.fit(X_train, y_train)\n",
    "\n",
    "y_pred = lr.predict(X_val)\n",
    "\n",
    "mean_squared_error(y_val, y_pred, squared=False)"
   ]
  },
  {
   "cell_type": "code",
   "execution_count": null,
   "id": "6323c101",
   "metadata": {},
   "outputs": [],
   "source": []
  }
 ],
 "metadata": {
  "kernelspec": {
   "display_name": "Python 3 (ipykernel)",
   "language": "python",
   "name": "python3"
  },
  "language_info": {
   "codemirror_mode": {
    "name": "ipython",
    "version": 3
   },
   "file_extension": ".py",
   "mimetype": "text/x-python",
   "name": "python",
   "nbconvert_exporter": "python",
   "pygments_lexer": "ipython3",
   "version": "3.9.12"
  }
 },
 "nbformat": 4,
 "nbformat_minor": 5
}
